{
 "metadata": {
  "name": ""
 },
 "nbformat": 3,
 "nbformat_minor": 0,
 "worksheets": [
  {
   "cells": [
    {
     "cell_type": "code",
     "collapsed": false,
     "input": [
      "%pylab inline"
     ],
     "language": "python",
     "metadata": {},
     "outputs": [
      {
       "output_type": "stream",
       "stream": "stdout",
       "text": [
        "Populating the interactive namespace from numpy and matplotlib\n"
       ]
      }
     ],
     "prompt_number": 4
    },
    {
     "cell_type": "code",
     "collapsed": false,
     "input": [
      "import json"
     ],
     "language": "python",
     "metadata": {},
     "outputs": [],
     "prompt_number": 5
    },
    {
     "cell_type": "code",
     "collapsed": false,
     "input": [
      "def read_file(filename):\n",
      "    new_dict = {}\n",
      "    file_in = open(filename, 'r')\n",
      "    return file_in\n",
      "\n",
      "filename = 'gameStream_nate_white.txt'\n",
      "file_in = read_file(filename)\n",
      "f = file_in.readlines()\n",
      "new_d = f\n",
      "\n",
      "action_locs = ['']*len(new_d)\n",
      "#################################################\n",
      "stats = 0\n",
      "for i in range(len(new_d)):\n",
      "    if new_d[i].find('END GAME', 0)!=-1:\n",
      "        stats=i\n",
      "        \n",
      "stats_arr = new_d[stats:]\n",
      "data_arr = new_d[:stats]\n",
      "###################################################\n",
      "arr=[]\n",
      "for i in range(1,len(stats_arr)):\n",
      "    temp = stats_arr[i]\n",
      "    arr.append(temp.split(': '))\n",
      "    arr[i-1][1]=int(arr[i-1][1].rstrip())\n",
      "arr.append(stats_arr[0])\n",
      "arr[len(arr)-1]=arr[len(arr)-1].split(' - ')\n",
      "arr[len(arr)-1][1]=arr[len(arr)-1][1].rstrip()\n",
      "\n",
      "stats_dict = {arr[i][0]: arr[i][1] for i in range(len(arr))}\n",
      "###############################################\n",
      "timestamp = [None]*len(data_arr)\n",
      "locations = []\n",
      "moves = [None]*len(data_arr)\n",
      "turns = [None]*len(data_arr)\n",
      "prevSqVis = [0]*len(data_arr)\n",
      "sqVis = [0]*len(data_arr)\n",
      "sqSince = [0]*len(data_arr)\n",
      "diff = [0]*len(data_arr)\n",
      "comments = ['']*len(data_arr)\n",
      "helpscreen = [0]*len(data_arr)\n",
      "timestamp[0] = 0\n",
      "for i in range(len(data_arr)):\n",
      "    temp = data_arr[i]\n",
      "    if ('TIMESTAMP' in temp) and (i>0):\n",
      "        timestamp[i] = int(temp.rstrip().split('TIMESTAMP: ')[1])\n",
      "    elif 'MOVES' in temp:\n",
      "        moves[i] = temp.rstrip()\n",
      "    elif 'ACTION' in temp:\n",
      "        None\n",
      "    elif 'TURNS' in temp:\n",
      "        turns[i] = temp.rstrip()\n",
      "    elif 'prevSquaresVisited' in temp:\n",
      "        prevSqVis[i] = int(temp.rstrip().split(' ')[1])\n",
      "        sqVis[i] = int(temp.rstrip().split(' ')[3])\n",
      "    elif 'squaresSince' in temp:\n",
      "        sqSince[i] = int(temp.rstrip().split(' ')[1])\n",
      "        diff[i] = int(temp.rstrip().split(' ')[3])\n",
      "    else:\n",
      "        if 'TIME IN HELP SCREEN' in temp:\n",
      "            helpscreen[i] = int(temp.rstrip().split('TIME IN HELP SCREEN: ')[1])\n",
      "        else:\n",
      "            comments[i] = temp.rstrip() #multiple comments handle too!\n",
      "#add helpscreen data; fix victor's file\n",
      "action_ids = []\n",
      "for i in range(len(data_arr)):\n",
      "    if 'ACTION' in data_arr[i]:\n",
      "        action_ids.append(i)\n",
      "for i in range(1,len(action_ids)):\n",
      "    locations.append(data_arr[action_ids[i]-1].rstrip())\n",
      "    \n",
      "for i in range(len(comments)):\n",
      "    temp = comments[i]\n",
      "    if (temp!='') and (('0' in temp) or ('1' in temp) or ('2' in temp) or ('3' in temp) or ('4' in temp) or ('5' in temp) or ('6' in temp) or ('7' in temp) or ('8' in temp) or ('9' in temp)):\n",
      "        comments[i] = ''\n",
      "        \n",
      "cnt = []\n",
      "for i in range(len(comments)):\n",
      "    temp = comments[i]\n",
      "    if temp!='':\n",
      "        cnt.append(i)\n",
      "        \n",
      "for i in range(1,len(cnt)):\n",
      "    if abs(cnt[i]-cnt[i-1])<=1:\n",
      "        comments[cnt[i]]=comments[cnt[i-1]]+'; '+comments[cnt[i]]\n",
      "        comments[cnt[i-1]] = ''\n",
      "        \n",
      "new_comments=['']*stats_dict['ACTIONS']\n",
      "for i in range(1,stats_dict['ACTIONS']):\n",
      "    new_comments[i-1] = comments[action_ids[i]-2]\n",
      "    \n",
      "ts = []\n",
      "for i in range(len(timestamp)):\n",
      "    if timestamp[i] != None:\n",
      "        ts.append(timestamp[i])\n",
      "        \n",
      "new_moves = [None]*stats_dict['ACTIONS']\n",
      "for i in range(0,stats_dict['ACTIONS']):\n",
      "    new_moves[i] = moves[action_ids[i]+1]\n",
      "    \n",
      "new_prevSqVis = [0]*stats_dict['ACTIONS']\n",
      "for i in range(0,stats_dict['ACTIONS']):\n",
      "    new_prevSqVis[i] = prevSqVis[action_ids[i]+1]\n",
      "    \n",
      "new_sqVis = [0]*stats_dict['ACTIONS']\n",
      "for i in range(0,stats_dict['ACTIONS']):\n",
      "    new_sqVis[i] = sqVis[action_ids[i]+1]\n",
      "    \n",
      "new_sqSince = [0]*stats_dict['ACTIONS']\n",
      "for i in range(0,stats_dict['ACTIONS']):\n",
      "    new_sqSince[i] = sqSince[action_ids[i]+1]\n",
      "    \n",
      "new_diff = [0]*stats_dict['ACTIONS']\n",
      "for i in range(0,stats_dict['ACTIONS']):\n",
      "    new_diff[i] = diff[action_ids[i]+1]\n",
      "    \n",
      "new_turns = [None]*stats_dict['ACTIONS']\n",
      "for i in range(0,stats_dict['ACTIONS']):\n",
      "    new_turns[i] = turns[action_ids[i]+1]\n",
      "    \n",
      "new_helpscreen = [0]*stats_dict['ACTIONS']\n",
      "for i in range(0,stats_dict['ACTIONS']):\n",
      "    new_helpscreen[i] = helpscreen[action_ids[i+1]-2]\n",
      "        \n",
      "######################################\n",
      "data_dict = {}\n",
      "for i in range(stats_dict['ACTIONS']):\n",
      "    temp = []\n",
      "    data_dict[i] = {'TIMESTAMP': ts[i],'LOCATION': locations[i],'MOVES': new_moves[i],'TURNS': new_turns[i],'COMMENTS': new_comments[i],'TIME IN HELP SCREEN': new_helpscreen[i], 'PREVIOUS SQUARES VISITED': prevSqVis[i], 'SQUARED VISITED': sqVis[i], 'SQUARES SINCE': sqSince[i], 'DIFF': diff[i]}\n",
      "###############################################\n",
      "output_filename_suffix = filename.split(\"gameStream_\")[1].split(\".txt\")[0]\n",
      "data_filename = \"dataDict_\"+output_filename_suffix+\".json\"\n",
      "stats_filename = \"statsDict_\"+output_filename_suffix+\".json\"\n",
      "with open(data_filename, 'w') as outfile:\n",
      "  json.dump(data_dict, outfile)\n",
      "with open(stats_filename, 'w') as outfile:\n",
      "  json.dump(stats_dict, outfile)"
     ],
     "language": "python",
     "metadata": {},
     "outputs": [],
     "prompt_number": 6
    },
    {
     "cell_type": "code",
     "collapsed": false,
     "input": [],
     "language": "python",
     "metadata": {},
     "outputs": [],
     "prompt_number": 8
    },
    {
     "cell_type": "code",
     "collapsed": false,
     "input": [],
     "language": "python",
     "metadata": {},
     "outputs": [],
     "prompt_number": 11
    },
    {
     "cell_type": "code",
     "collapsed": false,
     "input": [],
     "language": "python",
     "metadata": {},
     "outputs": [],
     "prompt_number": 47
    },
    {
     "cell_type": "code",
     "collapsed": false,
     "input": [],
     "language": "python",
     "metadata": {},
     "outputs": [],
     "prompt_number": 48
    },
    {
     "cell_type": "code",
     "collapsed": false,
     "input": [],
     "language": "python",
     "metadata": {},
     "outputs": [],
     "prompt_number": 49
    },
    {
     "cell_type": "code",
     "collapsed": false,
     "input": [],
     "language": "python",
     "metadata": {},
     "outputs": [],
     "prompt_number": 50
    },
    {
     "cell_type": "code",
     "collapsed": false,
     "input": [
      "print 'ts: '+str(len(ts))\n",
      "print 'locs: '+str(len(locations))\n",
      "print 'moves: '+str(len(new_moves))\n",
      "print 'turns: '+str(len(new_turns))\n",
      "print 'coms: '+str(len(new_comments))\n",
      "print 'helpscr: '+str(len(new_helpscreen))\n",
      "print 'helpscr: '+str(len(new_sqVis))\n",
      "\n",
      "print 'actions: '+str(stats_dict['ACTIONS'])"
     ],
     "language": "python",
     "metadata": {},
     "outputs": [
      {
       "output_type": "stream",
       "stream": "stdout",
       "text": [
        "ts: 303\n",
        "locs: 303\n",
        "moves: 303\n",
        "turns: 303\n",
        "coms: 303\n",
        "helpscr: 303\n",
        "helpscr: 303\n",
        "actions: 303\n"
       ]
      }
     ],
     "prompt_number": 52
    },
    {
     "cell_type": "code",
     "collapsed": false,
     "input": [
      "len(new_helpscreen)"
     ],
     "language": "python",
     "metadata": {},
     "outputs": [
      {
       "metadata": {},
       "output_type": "pyout",
       "prompt_number": 35,
       "text": [
        "303"
       ]
      }
     ],
     "prompt_number": 35
    },
    {
     "cell_type": "code",
     "collapsed": false,
     "input": [
      "#find resets first, then subdivide by sessions, then by actions?! end games?!; nltk; python pandas\n",
      "#can query for where resets are using dict query stuff, include markdown instructions\n",
      "#verify data via loops too"
     ],
     "language": "python",
     "metadata": {},
     "outputs": [],
     "prompt_number": 368
    }
   ],
   "metadata": {}
  }
 ]
}